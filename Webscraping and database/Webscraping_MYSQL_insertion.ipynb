{
 "cells": [
  {
   "cell_type": "code",
   "execution_count": 12,
   "execution_count": 5,
   "metadata": {},
   "outputs": [
    {
     "name": "stdout",
     "output_type": "stream",
     "text": [
      "20200517\n"
      "20200518\n"
     ]
    },
    {
     "data": {
      "text/plain": [
       "0"
      ]
     },
     "execution_count": 12,
     "execution_count": 5,
     "metadata": {},
     "output_type": "execute_result"
    }
   ],
   "source": [
    "import mysql.connector as connector\n",
    "#note - install dns - pip install dnspython\n",
    "import pandas as pd \n",
    "import pymysql\n",
    "from sqlalchemy import create_engine #sqlalchemy helped convert strings to dates seamlessly\n",
    "from datetime import date\n",
    "import re\n",
    "\n",
    "#Create table in database\n",
    "con = pymysql.connect(user='dev', password='ax2',host='127.0.0.1',port=3306,db='pythonexam')  \n",
    "cursor = con.cursor()\n",
    "# .format data på table navn\n",
    "datenow = date.today()\n",
    "datestring = datenow.strftime(\"%Y%m%d\")\n",
    "print(datestring)\n",
    "query = \"CREATE TABLE IF NOT EXISTS corona{} (Country varchar(255), Total_cases varchar(255), New_cases varchar(255), Total_deaths varchar(255), New_deaths varchar(255), Total_recov varchar(255), Active_cases varchar(255), Serious_critical varchar(255), Total_cases_1mio varchar(255), Deaths_1miopop varchar(255), Total_tests varchar(255), Tests_1miopop varchar(255))\".format(datestring)\n",
    "cursor.execute(query)"
   ]
  },
  {
   "cell_type": "code",
   "execution_count": 13,
   "execution_count": 6,
   "metadata": {},
   "outputs": [],
   "source": [
    "import mysql.connector\n",
    "from mysql.connector import Error\n",
    "\n",
    "def insert_data(Country, Total_cases, New_cases, Total_deaths, New_deaths, Total_recov, Active_cases, Serious_critical, Total_cases_1mio, Deaths_1miopop, Total_tests, Tests_1miopop):\n",
    "    try:\n",
    "        connection = mysql.connector.connect(host='localhost', port=3306, database='pythonexam', user='dev',password=\"ax2\")\n",
    "        cursor = connection.cursor()\n",
    "        \n",
    "        query = \"\"\"INSERT INTO corona{} (Country, Total_cases, New_cases, Total_deaths, New_deaths, Total_recov, Active_cases, Serious_critical, Total_cases_1mio, Deaths_1miopop, Total_tests, Tests_1miopop) \n",
    "                                VALUES (%s, %s, %s, %s, %s, %s, %s, %s, %s, %s, %s, %s) \"\"\".format(datestring) \n",
    "        \n",
    "        record_tuple = (Country, Total_cases, New_cases, Total_deaths, New_deaths, Total_recov, Active_cases, Serious_critical, Total_cases_1mio, Deaths_1miopop, Total_tests, Tests_1miopop)\n",
    "        cursor.execute(query, record_tuple)\n",
    "        connection.commit()\n",
    "        #print(\"Record inserted successfully into table\")\n",
    "\n",
    "    except mysql.connector.Error as error:\n",
    "        print(\"Failed to insert into MySQL table {}\".format(error))\n",
    "\n",
    "    finally:\n",
    "        if (connection.is_connected()):\n",
    "            cursor.close()\n",
    "            connection.close()\n",
    "            #print(\"MySQL connection is closed\")"
   ]
  },
  {
   "cell_type": "code",
   "execution_count": 14,
   "execution_count": 7,
   "metadata": {
    "scrolled": false
   },
   "outputs": [],
   "source": [
    "import bs4 \n",
    "import requests\n",
    "import pandas as pd \n",
    "#from tabulate import tabulate\n",
    "import numpy as np\n",
    "import re\n",
    "\n",
    "url = 'https://www.worldometers.info/coronavirus/'\n",
    "html_text = requests.get(url)\n",
    "\n",
    "html_text.raise_for_status()\n",
    "#print('Status', html_text)\n",
    "\n",
    "soup = bs4.BeautifulSoup(html_text.text, 'html.parser')\n",
    "#print(soup.prettify())\n",
    "\n",
    "name_of_class = soup.tr.text.strip()\n",
    "#print(name_of_class)\n",
    "\n",
    "data = []\n",
    "something = soup.select('div tbody tr td')\n",
    "for some in something:\n",
    "    #print(some.getText())\n",
    "    \n",
    "    country = some.getText()\n",
    "    \n",
    "    cleaned = re.sub(r\"\\n\", \"\", country)\n",
    "    cleanedr2 = re.sub(r\"\\+\", \"\", cleaned)\n",
    "    #print(cleaned)\n",
    "    data.append(cleanedr2)\n",
    "#print(data)\n",
    "numpy = np.array({})\n",
    "for temp in range(106,len(data)-3600,15):\n",
    "    numpy = (data[temp:temp+14])\n",
    "    #print(data[temp:temp+14])\n",
    "    insert_data(data[temp],data[temp+1],data[temp+2],data[temp+3],data[temp+4],data[temp+5],data[temp+6],data[temp+7],data[temp+8],data[temp+9],data[temp+10],data[temp+11],)"
   ]
  },
  {
   "cell_type": "code",
   "execution_count": 16,
   "metadata": {},
   "outputs": [
    {
     "name": "stdout",
     "output_type": "stream",
     "text": [
      "<function getcoronadatafromdatabase at 0x000001534867A168>\n"
     ]
    }
   ],
   "source": [
    "def getcoronadatafromdatabase():\n",
    "    connection = mysql.connector.connect(host='localhost', port=3306, database='pythonexam', user='dev',password=\"ax2\")\n",
    "    cursor = connection.cursor()\n",
    "    query = ('SELECT country, total_cases_1mio from corona20200515')\n",
    "    \n",
    "    data = cursor.execute(query, where_not)\n",
    "    cursor.close()\n",
    "    connection.close()\n",
    "    \n",
    "\n",
    "print(getcoronadatafromdatabase)"
   ]
  },
  {
   "cell_type": "code",
   "execution_count": 26,
   "metadata": {
    "scrolled": true
   },
   "outputs": [
    {
     "data": {
      "text/plain": [
       "[{'id': 'World', 'title': '4,771,917'},\n",
       " {'id': 'USA', 'title': '1,515,311'},\n",
       " {'id': 'Russia', 'title': '281,752'},\n",
       " {'id': 'Spain', 'title': '277,719'},\n",
       " {'id': 'UK', 'title': '243,303'},\n",
       " {'id': 'Brazil', 'title': '233,648'},\n",
       " {'id': 'Italy', 'title': '225,435'},\n",
       " {'id': 'France', 'title': '179,569'},\n",
       " {'id': 'Germany', 'title': '176,639'},\n",
       " {'id': 'Turkey', 'title': '149,435'},\n",
       " {'id': 'Iran', 'title': '120,198'}]"
      ]
     },
     "execution_count": 26,
     "metadata": {},
     "output_type": "execute_result"
    }
   ],
   "source": [
    "def getcoronadatafromdatabase():\n",
    "    connection = mysql.connector.connect(host='localhost', port=3306, database='pythonexam', user='dev',password=\"ax2\")\n",
    "    cursor = connection.cursor()\n",
    "    query = (\"SELECT country, total_cases from corona20200517 WHERE LENGTH(total_cases) > 6 \")\n",
    "    cursor.execute(query)\n",
    "    tasks = []\n",
    "    for country,total_cases in cursor:\n",
    "        tasks.append(\n",
    "        {\n",
    "        'id': country,\n",
    "        'title': total_cases\n",
    "        },\n",
    "        )\n",
    "    #print(tasks)\n",
    "    cursor.close()\n",
    "    connection.close()\n",
    "    return tasks\n",
    "getcoronadatafromdatabase()"
   ]
  },
  {
   "cell_type": "code",
   "execution_count": 32,
   "metadata": {},
   "outputs": [
    {
     "ename": "ValueError",
     "evalue": "Could not process parameters",
     "output_type": "error",
     "traceback": [
      "\u001b[1;31m---------------------------------------------------------------------------\u001b[0m",
      "\u001b[1;31mValueError\u001b[0m                                Traceback (most recent call last)",
      "\u001b[1;32m<ipython-input-32-f4c7082c9162>\u001b[0m in \u001b[0;36m<module>\u001b[1;34m\u001b[0m\n\u001b[0;32m     21\u001b[0m     \u001b[0mconnection\u001b[0m\u001b[1;33m.\u001b[0m\u001b[0mclose\u001b[0m\u001b[1;33m(\u001b[0m\u001b[1;33m)\u001b[0m\u001b[1;33m\u001b[0m\u001b[1;33m\u001b[0m\u001b[0m\n\u001b[0;32m     22\u001b[0m     \u001b[1;32mreturn\u001b[0m \u001b[0mjsonify\u001b[0m\u001b[1;33m(\u001b[0m\u001b[1;33m{\u001b[0m\u001b[1;34m'tasks'\u001b[0m\u001b[1;33m:\u001b[0m \u001b[0mtasks\u001b[0m\u001b[1;33m}\u001b[0m\u001b[1;33m)\u001b[0m\u001b[1;33m\u001b[0m\u001b[1;33m\u001b[0m\u001b[0m\n\u001b[1;32m---> 23\u001b[1;33m \u001b[0mget_countryByName\u001b[0m\u001b[1;33m(\u001b[0m\u001b[1;34m\"USA\"\u001b[0m\u001b[1;33m)\u001b[0m\u001b[1;33m\u001b[0m\u001b[1;33m\u001b[0m\u001b[0m\n\u001b[0m",
      "\u001b[1;32m<ipython-input-32-f4c7082c9162>\u001b[0m in \u001b[0;36mget_countryByName\u001b[1;34m(name)\u001b[0m\n\u001b[0;32m      4\u001b[0m     \u001b[0mquery\u001b[0m \u001b[1;33m=\u001b[0m \u001b[1;33m(\u001b[0m\u001b[1;34m'SELECT country, total_cases, New_cases, Total_deaths, New_deaths, Total_recov from corona20200517 WHERE country = %s'\u001b[0m\u001b[1;33m)\u001b[0m\u001b[1;33m\u001b[0m\u001b[1;33m\u001b[0m\u001b[0m\n\u001b[0;32m      5\u001b[0m     \u001b[0mwhere_not\u001b[0m \u001b[1;33m=\u001b[0m \u001b[1;34m\"USA\"\u001b[0m\u001b[1;33m\u001b[0m\u001b[1;33m\u001b[0m\u001b[0m\n\u001b[1;32m----> 6\u001b[1;33m     \u001b[0mcursor\u001b[0m\u001b[1;33m.\u001b[0m\u001b[0mexecute\u001b[0m\u001b[1;33m(\u001b[0m\u001b[0mquery\u001b[0m\u001b[1;33m,\u001b[0m \u001b[0mwhere_not\u001b[0m\u001b[1;33m)\u001b[0m\u001b[1;33m\u001b[0m\u001b[1;33m\u001b[0m\u001b[0m\n\u001b[0m\u001b[0;32m      7\u001b[0m     \u001b[0mtasks\u001b[0m \u001b[1;33m=\u001b[0m \u001b[1;33m[\u001b[0m\u001b[1;33m]\u001b[0m\u001b[1;33m\u001b[0m\u001b[1;33m\u001b[0m\u001b[0m\n\u001b[0;32m      8\u001b[0m     \u001b[1;32mfor\u001b[0m \u001b[0mcountry\u001b[0m\u001b[1;33m,\u001b[0m\u001b[0mtotal_cases\u001b[0m\u001b[1;33m,\u001b[0m\u001b[0mNew_cases\u001b[0m\u001b[1;33m,\u001b[0m\u001b[0mTotal_deaths\u001b[0m\u001b[1;33m,\u001b[0m\u001b[0mNew_deaths\u001b[0m\u001b[1;33m,\u001b[0m\u001b[0mTotal_recov\u001b[0m \u001b[1;32min\u001b[0m \u001b[0mcursor\u001b[0m\u001b[1;33m:\u001b[0m\u001b[1;33m\u001b[0m\u001b[1;33m\u001b[0m\u001b[0m\n",
      "\u001b[1;32m~\\Anaconda3\\lib\\site-packages\\mysql\\connector\\cursor_cext.py\u001b[0m in \u001b[0;36mexecute\u001b[1;34m(self, operation, params, multi)\u001b[0m\n\u001b[0;32m    246\u001b[0m \u001b[1;33m\u001b[0m\u001b[0m\n\u001b[0;32m    247\u001b[0m         \u001b[1;32mif\u001b[0m \u001b[0mparams\u001b[0m\u001b[1;33m:\u001b[0m\u001b[1;33m\u001b[0m\u001b[1;33m\u001b[0m\u001b[0m\n\u001b[1;32m--> 248\u001b[1;33m             \u001b[0mprepared\u001b[0m \u001b[1;33m=\u001b[0m \u001b[0mself\u001b[0m\u001b[1;33m.\u001b[0m\u001b[0m_cnx\u001b[0m\u001b[1;33m.\u001b[0m\u001b[0mprepare_for_mysql\u001b[0m\u001b[1;33m(\u001b[0m\u001b[0mparams\u001b[0m\u001b[1;33m)\u001b[0m\u001b[1;33m\u001b[0m\u001b[1;33m\u001b[0m\u001b[0m\n\u001b[0m\u001b[0;32m    249\u001b[0m             \u001b[1;32mif\u001b[0m \u001b[0misinstance\u001b[0m\u001b[1;33m(\u001b[0m\u001b[0mprepared\u001b[0m\u001b[1;33m,\u001b[0m \u001b[0mdict\u001b[0m\u001b[1;33m)\u001b[0m\u001b[1;33m:\u001b[0m\u001b[1;33m\u001b[0m\u001b[1;33m\u001b[0m\u001b[0m\n\u001b[0;32m    250\u001b[0m                 \u001b[1;32mfor\u001b[0m \u001b[0mkey\u001b[0m\u001b[1;33m,\u001b[0m \u001b[0mvalue\u001b[0m \u001b[1;32min\u001b[0m \u001b[0mprepared\u001b[0m\u001b[1;33m.\u001b[0m\u001b[0mitems\u001b[0m\u001b[1;33m(\u001b[0m\u001b[1;33m)\u001b[0m\u001b[1;33m:\u001b[0m\u001b[1;33m\u001b[0m\u001b[1;33m\u001b[0m\u001b[0m\n",
      "\u001b[1;32m~\\Anaconda3\\lib\\site-packages\\mysql\\connector\\connection_cext.py\u001b[0m in \u001b[0;36mprepare_for_mysql\u001b[1;34m(self, params)\u001b[0m\n\u001b[0;32m    630\u001b[0m                 \u001b[0mresult\u001b[0m\u001b[1;33m[\u001b[0m\u001b[0mkey\u001b[0m\u001b[1;33m]\u001b[0m \u001b[1;33m=\u001b[0m \u001b[0mself\u001b[0m\u001b[1;33m.\u001b[0m\u001b[0m_cmysql\u001b[0m\u001b[1;33m.\u001b[0m\u001b[0mconvert_to_mysql\u001b[0m\u001b[1;33m(\u001b[0m\u001b[0mvalue\u001b[0m\u001b[1;33m)\u001b[0m\u001b[1;33m[\u001b[0m\u001b[1;36m0\u001b[0m\u001b[1;33m]\u001b[0m\u001b[1;33m\u001b[0m\u001b[1;33m\u001b[0m\u001b[0m\n\u001b[0;32m    631\u001b[0m         \u001b[1;32melse\u001b[0m\u001b[1;33m:\u001b[0m\u001b[1;33m\u001b[0m\u001b[1;33m\u001b[0m\u001b[0m\n\u001b[1;32m--> 632\u001b[1;33m             \u001b[1;32mraise\u001b[0m \u001b[0mValueError\u001b[0m\u001b[1;33m(\u001b[0m\u001b[1;34m\"Could not process parameters\"\u001b[0m\u001b[1;33m)\u001b[0m\u001b[1;33m\u001b[0m\u001b[1;33m\u001b[0m\u001b[0m\n\u001b[0m\u001b[0;32m    633\u001b[0m \u001b[1;33m\u001b[0m\u001b[0m\n\u001b[0;32m    634\u001b[0m         \u001b[1;32mreturn\u001b[0m \u001b[0mresult\u001b[0m\u001b[1;33m\u001b[0m\u001b[1;33m\u001b[0m\u001b[0m\n",
      "\u001b[1;31mValueError\u001b[0m: Could not process parameters"
     ]
    }
   ],
   "source": [
    "def get_countryByName(name):\n",
    "    connection = mysql.connector.connect(host='localhost', port=3306, database='pythonexam', user='dev',password=\"ax2\")\n",
    "    cursor = connection.cursor()\n",
    "    query = ('SELECT country, total_cases, New_cases, Total_deaths, New_deaths, Total_recov from corona20200517 WHERE country = %s')\n",
    "    where_not = \"USA\"\n",
    "    cursor.execute(query, where_not)\n",
    "    tasks = []\n",
    "    for country,total_cases,New_cases,Total_deaths,New_deaths,Total_recov in cursor:\n",
    "        tasks.append(\n",
    "        {\n",
    "        'Country': country,\n",
    "        'Total_cases': total_cases,\n",
    "        'New_cases': New_cases,\n",
    "        'Total_deaths': Total_deaths,\n",
    "        'New_deaths': New_deaths,\n",
    "        'Total_recov': Total_recov\n",
    "        },\n",
    "        )\n",
    "    #print(tasks)\n",
    "    cursor.close()\n",
    "    connection.close()\n",
    "    return jsonify({'tasks': tasks})\n",
    "get_countryByName(\"USA\")"
   ]
  }
 ],
 "metadata": {
  "kernelspec": {
   "display_name": "Python 3",
   "language": "python",
   "name": "python3"
  },
  "language_info": {
   "codemirror_mode": {
    "name": "ipython",
    "version": 3
   },
   "file_extension": ".py",
   "mimetype": "text/x-python",
   "name": "python",
   "nbconvert_exporter": "python",
   "pygments_lexer": "ipython3",
   "version": "3.7.4"
  }
 },
 "nbformat": 4,
 "nbformat_minor": 2
}
