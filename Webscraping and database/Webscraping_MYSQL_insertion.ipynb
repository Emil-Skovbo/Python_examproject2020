{
 "cells": [
  {
   "cell_type": "markdown",
   "metadata": {},
   "source": [
    "## Create table in database\n",
    "\n",
    "* Make sure you have created a database called pythonexam to make it work"
   ]
  },
  {
   "cell_type": "code",
   "execution_count": 5,
   "metadata": {},
   "outputs": [
    {
     "name": "stdout",
     "output_type": "stream",
     "text": [
      "20200522\n"
     ]
    },
    {
     "data": {
      "text/plain": [
       "0"
      ]
     },
     "execution_count": 5,
     "metadata": {},
     "output_type": "execute_result"
    }
   ],
   "source": [
    "import pymysql\n",
    "from datetime import date\n",
    "\n",
    "#Create table in database\n",
    "con = pymysql.connect(user='dev', password='ax2',host='127.0.0.1',port=3307,db='pythonexam')  \n",
    "cursor = con.cursor()\n",
    "datenow = date.today()\n",
    "datestring = datenow.strftime(\"%Y%m%d\")\n",
    "print(datestring)\n",
    "query = \"CREATE TABLE IF NOT EXISTS corona{} (Country varchar(255), Total_cases varchar(255), New_cases varchar(255), Total_deaths varchar(255), New_deaths varchar(255), Total_recov varchar(255), Active_cases varchar(255), Serious_critical varchar(255), Total_cases_1mio varchar(255), Deaths_1miopop varchar(255), Total_tests varchar(255), Tests_1miopop varchar(255))\".format(datestring)\n",
    "cursor.execute(query)"
   ]
  },
  {
   "cell_type": "markdown",
   "metadata": {},
   "source": [
    "## Insert function"
   ]
  },
  {
   "cell_type": "code",
   "execution_count": 6,
   "metadata": {},
   "outputs": [],
   "source": [
    "import mysql.connector as connector\n",
    "\n",
    "def insert_data(Country, Total_cases, New_cases, Total_deaths, New_deaths, Total_recov, Active_cases, Serious_critical, Total_cases_1mio, Deaths_1miopop, Total_tests, Tests_1miopop):\n",
    "    try:\n",
    "        connection = connector.connect(host='localhost', port=3307, database='pythonexam', user='dev',password=\"ax2\")\n",
    "        cursor = connection.cursor()\n",
    "        \n",
    "        query = \"\"\"INSERT INTO corona{} (Country, Total_cases, New_cases, Total_deaths, New_deaths, Total_recov, Active_cases, Serious_critical, Total_cases_1mio, Deaths_1miopop, Total_tests, Tests_1miopop) \n",
    "                                VALUES (%s, %s, %s, %s, %s, %s, %s, %s, %s, %s, %s, %s) \"\"\".format(datestring) \n",
    "        \n",
    "        parameter = (Country, Total_cases, New_cases, Total_deaths, New_deaths, Total_recov, Active_cases, Serious_critical, Total_cases_1mio, Deaths_1miopop, Total_tests, Tests_1miopop)\n",
    "        cursor.execute(query,parameter)\n",
    "        connection.commit()\n",
    "        #print(\"Record inserted successfully into table\")\n",
    "\n",
    "    except connector.Error as error:\n",
    "        print(\"Failed to insert into MySQL table {}\".format(error))\n",
    "\n",
    "    finally:\n",
    "        if (connection.is_connected()):\n",
    "            cursor.close()\n",
    "            connection.close()\n",
    "            #print(\"MySQL connection is closed\")"
   ]
  },
  {
   "cell_type": "markdown",
   "metadata": {},
   "source": [
    "## Webscraping with bs4 "
   ]
  },
  {
   "cell_type": "code",
   "execution_count": 7,
   "metadata": {
    "scrolled": false
   },
   "outputs": [],
   "source": [
    "import bs4 \n",
    "import requests\n",
    "import re\n",
    "\n",
    "url = 'https://www.worldometers.info/coronavirus/'\n",
    "html_text = requests.get(url)\n",
    "\n",
    "html_text.raise_for_status()\n",
    "#print('Status', html_text)\n",
    "\n",
    "soup = bs4.BeautifulSoup(html_text.text, 'html.parser')\n",
    "#print(soup.prettify())\n",
    "\n",
    "name_of_class = soup.tr.text.strip()\n",
    "#print(name_of_class)\n",
    "\n",
    "data = []\n",
    "webscraping = soup.select('div tbody tr td')\n",
    "for value in webscraping:\n",
    "    country = value.getText()   \n",
    "    cleaned = re.sub(r\"\\n\", \"\", country)\n",
    "    cleanedr2 = re.sub(r\"\\+\", \"\", cleaned)\n",
    "    #print(cleaned)\n",
    "    data.append(cleanedr2)\n",
    "#print(data)\n",
    "\n",
    "for temp in range(106,len(data)-3600,15):\n",
    "    #print(data[temp:temp+14])\n",
    "    insert_data(data[temp],data[temp+1],data[temp+2],data[temp+3],data[temp+4],data[temp+5],data[temp+6],data[temp+7],data[temp+8],data[temp+9],data[temp+10],data[temp+11],)"
   ]
  }
 ],
 "metadata": {
  "kernelspec": {
   "display_name": "Python 3",
   "language": "python",
   "name": "python3"
  }
 },
 "nbformat": 4,
 "nbformat_minor": 2
}
