{
 "cells": [
  {
   "cell_type": "code",
<<<<<<< HEAD
   "execution_count": 5,
   "metadata": {
    "scrolled": false
   },
   "outputs": [],
   "source": [
    "import bs4 \n",
    "import requests\n",
    "import pandas as pd \n",
    "#from tabulate import tabulate\n",
    "import numpy as np\n",
    "import re\n",
    "\n",
    "url = 'https://www.worldometers.info/coronavirus/'\n",
    "html_text = requests.get(url)\n",
    "\n",
    "html_text.raise_for_status()\n",
    "#print('Status', html_text)\n",
    "\n",
    "soup = bs4.BeautifulSoup(html_text.text, 'html.parser')\n",
    "#print(soup.prettify())\n",
    "\n",
    "name_of_class = soup.tr.text.strip()\n",
    "#print(name_of_class)\n",
    "\n",
    "data = []\n",
    "something = soup.select('div tbody tr td')\n",
    "for some in something:\n",
    "    #print(some.getText())\n",
    "    \n",
    "    country = some.getText()\n",
    "    \n",
    "    cleaned = re.sub(r\"\\n\", \"\", country)\n",
    "    cleanedr2 = re.sub(r\"\\+\", \"\", cleaned)\n",
    "    #print(cleaned)\n",
    "    data.append(cleanedr2)\n",
    "#print(data)\n",
    "numpy = np.array({})\n",
    "for temp in range(0,len(data),13):\n",
    "    numpy = (data[temp:temp+12])\n",
    "    #print(data[temp:temp+12])\n",
    "    insert_data(data[temp],data[temp+1],data[temp+2],data[temp+3],data[temp+4],data[temp+5],data[temp+6],data[temp+7],data[temp+8],data[temp+9],data[temp+10],data[temp+11],)\n"
   ]
  },
  {
   "cell_type": "code",
   "execution_count": 2,
=======
   "execution_count": 6,
>>>>>>> d12480858f7f8edbb7cee45fb7f044584bd5875e
   "metadata": {},
   "outputs": [
    {
     "name": "stdout",
     "output_type": "stream",
     "text": [
      "20200515\n"
     ]
    },
    {
     "data": {
      "text/plain": [
       "0"
      ]
     },
<<<<<<< HEAD
     "execution_count": 2,
=======
     "execution_count": 6,
>>>>>>> d12480858f7f8edbb7cee45fb7f044584bd5875e
     "metadata": {},
     "output_type": "execute_result"
    }
   ],
   "source": [
    "import mysql.connector as connector\n",
    "#note - install dns - pip install dnspython\n",
    "import pandas as pd \n",
    "import pymysql\n",
    "from sqlalchemy import create_engine #sqlalchemy helped convert strings to dates seamlessly\n",
    "from datetime import date\n",
    "import re\n",
    "\n",
    "#Create table in database\n",
    "con = pymysql.connect(user='dev', password='ax2',host='127.0.0.1',port=3307,db='pythonexam')  \n",
    "cursor = con.cursor()\n",
    "# .format data på table navn\n",
    "datenow = date.today()\n",
    "datestring = datenow.strftime(\"%Y%m%d\")\n",
    "print(datestring)\n",
    "query = \"CREATE TABLE IF NOT EXISTS corona{} (Country varchar(255), Total_cases varchar(255), New_cases varchar(255), Total_deaths varchar(255), New_deaths varchar(255), Total_recov varchar(255), Active_cases varchar(255), Serious_critical varchar(255), Total_cases_1mio varchar(255), Deaths_1miopop varchar(255), Total_tests varchar(255), Tests_1miopop varchar(255))\".format(datestring)\n",
    "temp = query\n",
    "cursor.execute(temp)"
   ]
  },
  {
   "cell_type": "code",
<<<<<<< HEAD
   "execution_count": 4,
=======
   "execution_count": 7,
>>>>>>> d12480858f7f8edbb7cee45fb7f044584bd5875e
   "metadata": {},
   "outputs": [],
   "source": [
    "import mysql.connector\n",
    "from mysql.connector import Error\n",
    "\n",
    "def insert_data(Country, Total_cases, New_cases, Total_deaths, New_deaths, Total_recov, Active_cases, Serious_critical, Total_cases_1mio, Deaths_1miopop, Total_tests, Tests_1miopop):\n",
    "    try:\n",
    "        connection = mysql.connector.connect(host='localhost', port=3307, database='pythonexam', user='dev',password=\"ax2\")\n",
    "        cursor = connection.cursor()\n",
    "        \n",
    "        query = \"\"\"INSERT INTO corona{} (Country, Total_cases, New_cases, Total_deaths, New_deaths, Total_recov, Active_cases, Serious_critical, Total_cases_1mio, Deaths_1miopop, Total_tests, Tests_1miopop) \n",
    "                                VALUES (%s, %s, %s, %s, %s, %s, %s, %s, %s, %s, %s, %s) \"\"\".format(datestring) \n",
    "        \n",
    "        record_tuple = (Country, Total_cases, New_cases, Total_deaths, New_deaths, Total_recov, Active_cases, Serious_critical, Total_cases_1mio, Deaths_1miopop, Total_tests, Tests_1miopop)\n",
    "        cursor.execute(query, record_tuple)\n",
    "        connection.commit()\n",
    "        #print(\"Record inserted successfully into table\")\n",
    "\n",
    "    except mysql.connector.Error as error:\n",
    "        print(\"Failed to insert into MySQL table {}\".format(error))\n",
    "\n",
    "    finally:\n",
    "        if (connection.is_connected()):\n",
    "            cursor.close()\n",
    "            connection.close()\n",
    "            #print(\"MySQL connection is closed\")"
   ]
  },
  {
   "cell_type": "code",
   "execution_count": 8,
   "metadata": {
    "scrolled": false
   },
   "outputs": [],
   "source": [
    "import bs4 \n",
    "import requests\n",
    "import pandas as pd \n",
    "#from tabulate import tabulate\n",
    "import numpy as np\n",
    "import re\n",
    "\n",
    "url = 'https://www.worldometers.info/coronavirus/'\n",
    "html_text = requests.get(url)\n",
    "\n",
    "html_text.raise_for_status()\n",
    "#print('Status', html_text)\n",
    "\n",
    "soup = bs4.BeautifulSoup(html_text.text, 'html.parser')\n",
    "#print(soup.prettify())\n",
    "\n",
    "name_of_class = soup.tr.text.strip()\n",
    "#print(name_of_class)\n",
    "\n",
    "data = []\n",
    "something = soup.select('div tbody tr td')\n",
    "for some in something:\n",
    "    #print(some.getText())\n",
    "    \n",
    "    country = some.getText()\n",
    "    \n",
    "    cleaned = re.sub(r\"\\n\", \"\", country)\n",
    "    cleanedr2 = re.sub(r\"\\+\", \"\", cleaned)\n",
    "    #print(cleaned)\n",
    "    data.append(cleanedr2)\n",
    "#print(data)\n",
    "numpy = np.array({})\n",
    "for temp in range(106,len(data)-3600,15):\n",
    "    numpy = (data[temp:temp+14])\n",
    "    #print(data[temp:temp+14])\n",
    "    insert_data(data[temp],data[temp+1],data[temp+2],data[temp+3],data[temp+4],data[temp+5],data[temp+6],data[temp+7],data[temp+8],data[temp+9],data[temp+10],data[temp+11],)"
   ]
  },
  {
   "cell_type": "code",
   "execution_count": null,
   "metadata": {},
   "outputs": [],
   "source": []
  }
 ],
 "metadata": {
  "kernelspec": {
   "display_name": "Python 3",
   "language": "python",
   "name": "python3"
  },
  "language_info": {
   "codemirror_mode": {
    "name": "ipython",
    "version": 3
   },
   "file_extension": ".py",
   "mimetype": "text/x-python",
   "name": "python",
   "nbconvert_exporter": "python",
   "pygments_lexer": "ipython3",
   "version": "3.7.5"
  }
 },
 "nbformat": 4,
 "nbformat_minor": 2
}
