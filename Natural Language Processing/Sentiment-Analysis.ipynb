{
 "cells": [
  {
   "cell_type": "code",
   "execution_count": 6,
   "metadata": {},
   "outputs": [
    {
     "data": {
      "text/html": [
       "<div>\n",
       "<style scoped>\n",
       "    .dataframe tbody tr th:only-of-type {\n",
       "        vertical-align: middle;\n",
       "    }\n",
       "\n",
       "    .dataframe tbody tr th {\n",
       "        vertical-align: top;\n",
       "    }\n",
       "\n",
       "    .dataframe thead th {\n",
       "        text-align: right;\n",
       "    }\n",
       "</style>\n",
       "<table border=\"1\" class=\"dataframe\">\n",
       "  <thead>\n",
       "    <tr style=\"text-align: right;\">\n",
       "      <th></th>\n",
       "      <th>textbits</th>\n",
       "      <th>Newspapers</th>\n",
       "    </tr>\n",
       "  </thead>\n",
       "  <tbody>\n",
       "    <tr>\n",
       "      <th>bbc</th>\n",
       "      <td>The UK's \"test, track and trace\" coronavirus s...</td>\n",
       "      <td>BBC</td>\n",
       "    </tr>\n",
       "    <tr>\n",
       "      <th>dailymail</th>\n",
       "      <td>By Kellie Chudzinski For Dailymail.com   Publi...</td>\n",
       "      <td>DailyMail</td>\n",
       "    </tr>\n",
       "    <tr>\n",
       "      <th>fox</th>\n",
       "      <td>Michigan governor doubles down on state of eme...</td>\n",
       "      <td>FoxNews</td>\n",
       "    </tr>\n",
       "    <tr>\n",
       "      <th>newsau</th>\n",
       "      <td>A vaccine is widely acknowledged as the key to...</td>\n",
       "      <td>NewsAU</td>\n",
       "    </tr>\n",
       "    <tr>\n",
       "      <th>theguardian</th>\n",
       "      <td>More people are staying indoors to avoid conta...</td>\n",
       "      <td>TheGuardian</td>\n",
       "    </tr>\n",
       "    <tr>\n",
       "      <th>thestar</th>\n",
       "      <td>Vicki McKenna came to the Ministry of Health’s...</td>\n",
       "      <td>TheStar</td>\n",
       "    </tr>\n",
       "  </tbody>\n",
       "</table>\n",
       "</div>"
      ],
      "text/plain": [
       "                                                      textbits   Newspapers\n",
       "bbc          The UK's \"test, track and trace\" coronavirus s...          BBC\n",
       "dailymail    By Kellie Chudzinski For Dailymail.com   Publi...    DailyMail\n",
       "fox          Michigan governor doubles down on state of eme...      FoxNews\n",
       "newsau       A vaccine is widely acknowledged as the key to...       NewsAU\n",
       "theguardian  More people are staying indoors to avoid conta...  TheGuardian\n",
       "thestar      Vicki McKenna came to the Ministry of Health’s...      TheStar"
      ]
     },
     "execution_count": 6,
     "metadata": {},
     "output_type": "execute_result"
    }
   ],
   "source": [
    "#we now have some clean data\n",
    "#for sentiment we need the corpus and not our document term matrix.\n",
    "#this is because word order matters here etc. \"great\" vs \"not great\" has very different meanings.\n",
    "#vi bruger textblob import, som kan give en string en polarity og en subjectivity. begge tal går fra 0 til 1.\n",
    "#polarity er hvor negativ(0)/positiv(1) sætningen er ladet.\n",
    "#subjectivity er hvor objektiv(0)/subjektiv(1) sætningen er.\n",
    "#textblob bruger et library af data fra linguister, som har givet ratings til ALLE måder man kan bruge et ord på.\n",
    "#f.eks ordet \"not\" kan have 5 forskellige ratings i 5 forskellige måder ordet bliver brugt på. vi kunne håbe på\n",
    "#at analysere hvilken måde det blev benyttet i vores tilfælde, men det gør textblob ikke. Den finder gennemsnits\n",
    "#rangering af alle de 5 brugsmåder og giver alle \"not\" ord i vores tekst den gennemsnitlige værdi. \n",
    "#Dette er ikke optimalt men stadig brugbart.\n",
    "\n",
    "import pandas as pd\n",
    "data= pd.read_pickle('corpussix.pkl')\n",
    "data\n"
   ]
  },
  {
   "cell_type": "code",
   "execution_count": 7,
   "metadata": {},
   "outputs": [
    {
     "data": {
      "text/html": [
       "<div>\n",
       "<style scoped>\n",
       "    .dataframe tbody tr th:only-of-type {\n",
       "        vertical-align: middle;\n",
       "    }\n",
       "\n",
       "    .dataframe tbody tr th {\n",
       "        vertical-align: top;\n",
       "    }\n",
       "\n",
       "    .dataframe thead th {\n",
       "        text-align: right;\n",
       "    }\n",
       "</style>\n",
       "<table border=\"1\" class=\"dataframe\">\n",
       "  <thead>\n",
       "    <tr style=\"text-align: right;\">\n",
       "      <th></th>\n",
       "      <th>textbits</th>\n",
       "      <th>Newspapers</th>\n",
       "      <th>polarity</th>\n",
       "      <th>subjectivity</th>\n",
       "    </tr>\n",
       "  </thead>\n",
       "  <tbody>\n",
       "    <tr>\n",
       "      <th>bbc</th>\n",
       "      <td>The UK's \"test, track and trace\" coronavirus s...</td>\n",
       "      <td>BBC</td>\n",
       "      <td>0.088018</td>\n",
       "      <td>0.419797</td>\n",
       "    </tr>\n",
       "    <tr>\n",
       "      <th>dailymail</th>\n",
       "      <td>By Kellie Chudzinski For Dailymail.com   Publi...</td>\n",
       "      <td>DailyMail</td>\n",
       "      <td>0.080667</td>\n",
       "      <td>0.436840</td>\n",
       "    </tr>\n",
       "    <tr>\n",
       "      <th>fox</th>\n",
       "      <td>Michigan governor doubles down on state of eme...</td>\n",
       "      <td>FoxNews</td>\n",
       "      <td>0.071809</td>\n",
       "      <td>0.388011</td>\n",
       "    </tr>\n",
       "    <tr>\n",
       "      <th>newsau</th>\n",
       "      <td>A vaccine is widely acknowledged as the key to...</td>\n",
       "      <td>NewsAU</td>\n",
       "      <td>0.099419</td>\n",
       "      <td>0.423819</td>\n",
       "    </tr>\n",
       "    <tr>\n",
       "      <th>theguardian</th>\n",
       "      <td>More people are staying indoors to avoid conta...</td>\n",
       "      <td>TheGuardian</td>\n",
       "      <td>0.098736</td>\n",
       "      <td>0.497413</td>\n",
       "    </tr>\n",
       "    <tr>\n",
       "      <th>thestar</th>\n",
       "      <td>Vicki McKenna came to the Ministry of Health’s...</td>\n",
       "      <td>TheStar</td>\n",
       "      <td>0.088514</td>\n",
       "      <td>0.426209</td>\n",
       "    </tr>\n",
       "  </tbody>\n",
       "</table>\n",
       "</div>"
      ],
      "text/plain": [
       "                                                      textbits   Newspapers  \\\n",
       "bbc          The UK's \"test, track and trace\" coronavirus s...          BBC   \n",
       "dailymail    By Kellie Chudzinski For Dailymail.com   Publi...    DailyMail   \n",
       "fox          Michigan governor doubles down on state of eme...      FoxNews   \n",
       "newsau       A vaccine is widely acknowledged as the key to...       NewsAU   \n",
       "theguardian  More people are staying indoors to avoid conta...  TheGuardian   \n",
       "thestar      Vicki McKenna came to the Ministry of Health’s...      TheStar   \n",
       "\n",
       "             polarity  subjectivity  \n",
       "bbc          0.088018      0.419797  \n",
       "dailymail    0.080667      0.436840  \n",
       "fox          0.071809      0.388011  \n",
       "newsau       0.099419      0.423819  \n",
       "theguardian  0.098736      0.497413  \n",
       "thestar      0.088514      0.426209  "
      ]
     },
     "execution_count": 7,
     "metadata": {},
     "output_type": "execute_result"
    }
   ],
   "source": [
    "from textblob import TextBlob\n",
    "\n",
    "pol = lambda x: TextBlob(x).sentiment.polarity\n",
    "sub = lambda x: TextBlob(x).sentiment.subjectivity\n",
    "\n",
    "data['polarity'] = data['textbits'].apply(pol)\n",
    "data['subjectivity'] = data['textbits'].apply(sub)\n",
    "data"
   ]
  },
  {
   "cell_type": "code",
   "execution_count": null,
   "metadata": {},
   "outputs": [],
   "source": [
    "#synes ikke rigtigt de her tal fortæller super meget. tallene er meget ens.\n",
    "#Men det her var heller ikke vores primære mål."
   ]
  },
  {
   "cell_type": "code",
   "execution_count": 9,
   "metadata": {},
   "outputs": [
    {
     "data": {
      "image/png": "[encoded data removed]",
      "text/plain": [
       "<Figure size 720x576 with 1 Axes>"
      ]
     },
     "metadata": {
      "needs_background": "light"
     },
     "output_type": "display_data"
    }
   ],
   "source": [
    "import matplotlib.pyplot as plt\n",
    "\n",
    "plt.rcParams['figure.figsize'] = [10,8]\n",
    "\n",
    "for index, newspaper in enumerate(data.index):\n",
    "    x = data.polarity.loc[newspaper]\n",
    "    y = data.subjectivity.loc[newspaper]\n",
    "    plt.scatter(x, y, color='red')\n",
    "    plt.text(x+.001, y+.001,data['Newspapers'][index], fontsize=10)\n",
    "    plt.xlim(-.01,.12)\n",
    "\n",
    "plt.title('Sentiment-Analysis', fontsize=15)\n",
    "plt.xlabel('<---Negative----------Positive--->', fontsize=15)\n",
    "plt.ylabel('<---Objective----------Subjective--->', fontsize=15)\n",
    "\n",
    "plt.show()\n",
    "    #1:19:17\n"
   ]
  },
  {
   "cell_type": "code",
   "execution_count": null,
   "metadata": {},
   "outputs": [],
   "source": []
  }
 ],
 "metadata": {
  "kernelspec": {
   "display_name": "Python 3",
   "language": "python",
   "name": "python3"
  },
  "language_info": {
   "codemirror_mode": {
    "name": "ipython",
    "version": 3
   },
   "file_extension": ".py",
   "mimetype": "text/x-python",
   "name": "python",
   "nbconvert_exporter": "python",
   "pygments_lexer": "ipython3",
   "version": "3.7.4"
  }
 },
 "nbformat": 4,
 "nbformat_minor": 4
}
