{
 "cells": [
  {
   "cell_type": "code",
   "execution_count": null,
   "metadata": {},
   "outputs": [],
   "source": [
    "#we now have some clean data\n",
    "#for sentiment we need the corpus and not our document term matrix.\n",
    "#this is because word order matters here etc. \"great\" vs \"not great\" has very different meanings.\n",
    "#vi bruger textblob import, som kan give en string en polarity og en subjectivity. begge tal går fra 0 til 1.\n",
    "#polarity er hvor negativ(0)/positiv(1) sætningen er ladet.\n",
    "#subjectivity er hvor objektiv(0)/subjektiv(1) sætningen er.\n",
    "#textblob bruger et library af data fra linguister, som har givet ratings til ALLE måder man kan bruge et ord på.\n",
    "#f.eks ordet \"not\" kan have 5 forskellige ratings i 5 forskellige måder ordet bliver brugt på. vi kunne håbe på\n",
    "# at analysere hvilket måde det blev benyttet i vores tilfælde, men det gør textblob ikke. Den finder gennemsnits\n",
    "#rangering af alle de 5 brugsmåder og giver alle \"not\" ord i vores tekst den gennemsnitlige værdi. \n",
    "#Dette er ikke optimalt men stadig brugbart.\n",
    "from textblob import TextBlob\n"
   ]
  }
 ],
 "metadata": {
  "kernelspec": {
   "display_name": "Python 3",
   "language": "python",
   "name": "python3"
  },
  "language_info": {
   "codemirror_mode": {
    "name": "ipython",
    "version": 3
   },
   "file_extension": ".py",
   "mimetype": "text/x-python",
   "name": "python",
   "nbconvert_exporter": "python",
   "pygments_lexer": "ipython3",
   "version": "3.7.5"
  }
 },
 "nbformat": 4,
 "nbformat_minor": 4
}
