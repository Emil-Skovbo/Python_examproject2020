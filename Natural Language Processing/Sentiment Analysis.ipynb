{
 "cells": [
  {
   "cell_type": "markdown",
   "metadata": {},
   "source": [
    "## Sentiment analysis"
   ]
  },
  {
   "cell_type": "markdown",
   "metadata": {},
   "source": [
    "NOTE:\n",
    "* Using corpus because the word order matters here. ( not great vs. great ) \n",
    "\n",
    "* Polarity - negative (0) , positive (1) - is the sentence negative or positive\n",
    "* Subjectivity - objective(0), subjektive(1) - is the sentence objective or subjective \n"
   ]
  },
  {
   "cell_type": "code",
   "execution_count": 1,
   "metadata": {},
   "outputs": [
    {
     "data": {
      "text/html": [
       "<div>\n",
       "<style scoped>\n",
       "    .dataframe tbody tr th:only-of-type {\n",
       "        vertical-align: middle;\n",
       "    }\n",
       "\n",
       "    .dataframe tbody tr th {\n",
       "        vertical-align: top;\n",
       "    }\n",
       "\n",
       "    .dataframe thead th {\n",
       "        text-align: right;\n",
       "    }\n",
       "</style>\n",
       "<table border=\"1\" class=\"dataframe\">\n",
       "  <thead>\n",
       "    <tr style=\"text-align: right;\">\n",
       "      <th></th>\n",
       "      <th>textbits</th>\n",
       "      <th>Newspapers</th>\n",
       "    </tr>\n",
       "  </thead>\n",
       "  <tbody>\n",
       "    <tr>\n",
       "      <td>bbc</td>\n",
       "      <td>The UK's \"test, track and trace\" coronavirus s...</td>\n",
       "      <td>BBC</td>\n",
       "    </tr>\n",
       "    <tr>\n",
       "      <td>dailymail</td>\n",
       "      <td>By Kellie Chudzinski For Dailymail.com   Publi...</td>\n",
       "      <td>DailyMail</td>\n",
       "    </tr>\n",
       "    <tr>\n",
       "      <td>fox</td>\n",
       "      <td>Michigan governor doubles down on state of eme...</td>\n",
       "      <td>FoxNews</td>\n",
       "    </tr>\n",
       "    <tr>\n",
       "      <td>newsau</td>\n",
       "      <td>A vaccine is widely acknowledged as the key to...</td>\n",
       "      <td>NewsAU</td>\n",
       "    </tr>\n",
       "    <tr>\n",
       "      <td>theguardian</td>\n",
       "      <td>More people are staying indoors to avoid conta...</td>\n",
       "      <td>TheGuardian</td>\n",
       "    </tr>\n",
       "    <tr>\n",
       "      <td>thestar</td>\n",
       "      <td>Vicki McKenna came to the Ministry of Health’s...</td>\n",
       "      <td>TheStar</td>\n",
       "    </tr>\n",
       "  </tbody>\n",
       "</table>\n",
       "</div>"
      ],
      "text/plain": [
       "                                                      textbits   Newspapers\n",
       "bbc          The UK's \"test, track and trace\" coronavirus s...          BBC\n",
       "dailymail    By Kellie Chudzinski For Dailymail.com   Publi...    DailyMail\n",
       "fox          Michigan governor doubles down on state of eme...      FoxNews\n",
       "newsau       A vaccine is widely acknowledged as the key to...       NewsAU\n",
       "theguardian  More people are staying indoors to avoid conta...  TheGuardian\n",
       "thestar      Vicki McKenna came to the Ministry of Health’s...      TheStar"
      ]
     },
     "execution_count": 1,
     "metadata": {},
     "output_type": "execute_result"
    }
   ],
   "source": [
    "import pandas as pd\n",
    "data= pd.read_pickle('corpus.pkl')\n",
    "data\n"
   ]
  },
  {
   "cell_type": "code",
   "execution_count": 3,
   "metadata": {},
   "outputs": [
    {
     "data": {
      "text/html": [
       "<div>\n",
       "<style scoped>\n",
       "    .dataframe tbody tr th:only-of-type {\n",
       "        vertical-align: middle;\n",
       "    }\n",
       "\n",
       "    .dataframe tbody tr th {\n",
       "        vertical-align: top;\n",
       "    }\n",
       "\n",
       "    .dataframe thead th {\n",
       "        text-align: right;\n",
       "    }\n",
       "</style>\n",
       "<table border=\"1\" class=\"dataframe\">\n",
       "  <thead>\n",
       "    <tr style=\"text-align: right;\">\n",
       "      <th></th>\n",
       "      <th>textbits</th>\n",
       "      <th>Newspapers</th>\n",
       "      <th>polarity</th>\n",
       "      <th>subjectivity</th>\n",
       "    </tr>\n",
       "  </thead>\n",
       "  <tbody>\n",
       "    <tr>\n",
       "      <td>bbc</td>\n",
       "      <td>The UK's \"test, track and trace\" coronavirus s...</td>\n",
       "      <td>BBC</td>\n",
       "      <td>0.090420</td>\n",
       "      <td>0.421723</td>\n",
       "    </tr>\n",
       "    <tr>\n",
       "      <td>dailymail</td>\n",
       "      <td>By Kellie Chudzinski For Dailymail.com   Publi...</td>\n",
       "      <td>DailyMail</td>\n",
       "      <td>0.075140</td>\n",
       "      <td>0.437800</td>\n",
       "    </tr>\n",
       "    <tr>\n",
       "      <td>fox</td>\n",
       "      <td>Michigan governor doubles down on state of eme...</td>\n",
       "      <td>FoxNews</td>\n",
       "      <td>0.071809</td>\n",
       "      <td>0.388011</td>\n",
       "    </tr>\n",
       "    <tr>\n",
       "      <td>newsau</td>\n",
       "      <td>A vaccine is widely acknowledged as the key to...</td>\n",
       "      <td>NewsAU</td>\n",
       "      <td>0.099419</td>\n",
       "      <td>0.423819</td>\n",
       "    </tr>\n",
       "    <tr>\n",
       "      <td>theguardian</td>\n",
       "      <td>More people are staying indoors to avoid conta...</td>\n",
       "      <td>TheGuardian</td>\n",
       "      <td>0.098736</td>\n",
       "      <td>0.497413</td>\n",
       "    </tr>\n",
       "    <tr>\n",
       "      <td>thestar</td>\n",
       "      <td>Vicki McKenna came to the Ministry of Health’s...</td>\n",
       "      <td>TheStar</td>\n",
       "      <td>0.088514</td>\n",
       "      <td>0.426209</td>\n",
       "    </tr>\n",
       "  </tbody>\n",
       "</table>\n",
       "</div>"
      ],
      "text/plain": [
       "                                                      textbits   Newspapers  \\\n",
       "bbc          The UK's \"test, track and trace\" coronavirus s...          BBC   \n",
       "dailymail    By Kellie Chudzinski For Dailymail.com   Publi...    DailyMail   \n",
       "fox          Michigan governor doubles down on state of eme...      FoxNews   \n",
       "newsau       A vaccine is widely acknowledged as the key to...       NewsAU   \n",
       "theguardian  More people are staying indoors to avoid conta...  TheGuardian   \n",
       "thestar      Vicki McKenna came to the Ministry of Health’s...      TheStar   \n",
       "\n",
       "             polarity  subjectivity  \n",
       "bbc          0.090420      0.421723  \n",
       "dailymail    0.075140      0.437800  \n",
       "fox          0.071809      0.388011  \n",
       "newsau       0.099419      0.423819  \n",
       "theguardian  0.098736      0.497413  \n",
       "thestar      0.088514      0.426209  "
      ]
     },
     "execution_count": 3,
     "metadata": {},
     "output_type": "execute_result"
    }
   ],
   "source": [
    "from textblob import TextBlob\n",
    "\n",
    "pol = lambda x: TextBlob(x).sentiment.polarity\n",
    "sub = lambda x: TextBlob(x).sentiment.subjectivity\n",
    "\n",
    "data['polarity'] = data['textbits'].apply(pol)\n",
    "data['subjectivity'] = data['textbits'].apply(sub)\n",
    "data"
   ]
  },
  {
   "cell_type": "code",
   "execution_count": 5,
   "metadata": {},
   "outputs": [
    {
     "data": {
      "image/png": "[encoded data removed]",
      "text/plain": [
       "<Figure size 720x576 with 1 Axes>"
      ]
     },
     "metadata": {
      "needs_background": "light"
     },
     "output_type": "display_data"
    }
   ],
   "source": [
    "import matplotlib.pyplot as plt\n",
    "\n",
    "plt.rcParams['figure.figsize'] = [10,8]\n",
    "\n",
    "for index, newspaper in enumerate(data.index):\n",
    "    x = data.polarity.loc[newspaper]\n",
    "    y = data.subjectivity.loc[newspaper]\n",
    "    plt.scatter(x, y, color='red')\n",
    "    plt.text(x+.001, y+.001,data['Newspapers'][index], fontsize=10)\n",
    "    plt.xlim(-.01,.12)\n",
    "\n",
    "plt.title('Sentiment-Analysis', fontsize=15)\n",
    "plt.xlabel('<---Negative----------Positive--->', fontsize=15)\n",
    "plt.ylabel('<---Objective----------Subjective--->', fontsize=15)\n",
    "\n",
    "plt.show()\n",
    "    #1:19:17\n"
   ]
  },
  {
   "cell_type": "code",
   "execution_count": null,
   "metadata": {},
   "outputs": [],
   "source": []
  }
 ],
 "metadata": {
  "kernelspec": {
   "display_name": "Python 3",
   "language": "python",
   "name": "python3"
  },
  "language_info": {
   "codemirror_mode": {
    "name": "ipython",
    "version": 3
   },
   "file_extension": ".py",
   "mimetype": "text/x-python",
   "name": "python",
   "nbconvert_exporter": "python",
   "pygments_lexer": "ipython3",
   "version": "3.7.4"
  }
 },
 "nbformat": 4,
 "nbformat_minor": 4
}
