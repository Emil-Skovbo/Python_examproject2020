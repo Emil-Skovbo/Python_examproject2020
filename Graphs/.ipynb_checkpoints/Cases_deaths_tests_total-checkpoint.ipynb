{
 "cells": [
  {
   "cell_type": "code",
   "execution_count": 2,
   "metadata": {},
   "outputs": [],
   "source": [
    "import pymysql\n",
    "\n",
    "connector = pymysql.connect(user='dev', password='ax2',host='127.0.0.1',port=3307,db='pythonexam')\n",
    "cursor = connector.cursor()\n",
    "\n",
    "query = ('SELECT country, total_cases, total_deaths, total_tests from corona20200515 WHERE LENGTH(total_cases) > 6 and not country = %s and not country = %s and not country = %s and not country = %s and not country = %s and not country = %s and not country = %s and not country = %s and not country = %s')\n",
    "where_not = \"North America\", \"Asia\", \"South America\", \"Europe\", \"World\", \"Total:\", \"Africa\", \"Oceania\", \"South Africa\"\n",
    "cursor.execute(query, where_not)\n",
    "\n",
    "countries = []\n",
    "cases_total = []\n",
    "deaths_total =[]\n",
    "tests_total = []\n",
    "for country,c , d , t in cursor:\n",
    "    countries.append(country)\n",
    "    cases = c.replace(',','')\n",
    "    deaths = d.replace(',','')\n",
    "    tests = t.replace(',','')\n",
    "    c_int = int(cases)\n",
    "    d_int = int(deaths)\n",
    "    t_int = int(tests)\n",
    "    cases_total.append(c_int)\n",
    "    deaths_total.append(d_int)\n",
    "    tests_total.append(t_int)\n",
    "    #print(tests_1mio)\n",
    "    \n",
    "cursor.close()\n",
    "connector.close()"
   ]
  },
  {
   "cell_type": "code",
   "execution_count": 3,
   "metadata": {},
   "outputs": [
    {
     "data": {
      "text/html": [
       "<div>\n",
       "<style scoped>\n",
       "    .dataframe tbody tr th:only-of-type {\n",
       "        vertical-align: middle;\n",
       "    }\n",
       "\n",
       "    .dataframe tbody tr th {\n",
       "        vertical-align: top;\n",
       "    }\n",
       "\n",
       "    .dataframe thead th {\n",
       "        text-align: right;\n",
       "    }\n",
       "</style>\n",
       "<table border=\"1\" class=\"dataframe\">\n",
       "  <thead>\n",
       "    <tr style=\"text-align: right;\">\n",
       "      <th></th>\n",
       "      <th>Total Cases</th>\n",
       "      <th>Total Deaths</th>\n",
       "      <th>Total Tests</th>\n",
       "    </tr>\n",
       "  </thead>\n",
       "  <tbody>\n",
       "    <tr>\n",
       "      <td>USA</td>\n",
       "      <td>1457649</td>\n",
       "      <td>86912</td>\n",
       "      <td>10639178</td>\n",
       "    </tr>\n",
       "    <tr>\n",
       "      <td>Spain</td>\n",
       "      <td>274367</td>\n",
       "      <td>27459</td>\n",
       "      <td>2467761</td>\n",
       "    </tr>\n",
       "    <tr>\n",
       "      <td>Russia</td>\n",
       "      <td>262843</td>\n",
       "      <td>2418</td>\n",
       "      <td>6413948</td>\n",
       "    </tr>\n",
       "    <tr>\n",
       "      <td>UK</td>\n",
       "      <td>233151</td>\n",
       "      <td>33614</td>\n",
       "      <td>2219281</td>\n",
       "    </tr>\n",
       "    <tr>\n",
       "      <td>Italy</td>\n",
       "      <td>223096</td>\n",
       "      <td>31368</td>\n",
       "      <td>2807504</td>\n",
       "    </tr>\n",
       "    <tr>\n",
       "      <td>Brazil</td>\n",
       "      <td>203165</td>\n",
       "      <td>13999</td>\n",
       "      <td>735224</td>\n",
       "    </tr>\n",
       "    <tr>\n",
       "      <td>France</td>\n",
       "      <td>178870</td>\n",
       "      <td>27425</td>\n",
       "      <td>1384633</td>\n",
       "    </tr>\n",
       "    <tr>\n",
       "      <td>Germany</td>\n",
       "      <td>174975</td>\n",
       "      <td>7928</td>\n",
       "      <td>3147771</td>\n",
       "    </tr>\n",
       "    <tr>\n",
       "      <td>Turkey</td>\n",
       "      <td>144749</td>\n",
       "      <td>4007</td>\n",
       "      <td>1508824</td>\n",
       "    </tr>\n",
       "    <tr>\n",
       "      <td>Iran</td>\n",
       "      <td>114533</td>\n",
       "      <td>6854</td>\n",
       "      <td>643772</td>\n",
       "    </tr>\n",
       "  </tbody>\n",
       "</table>\n",
       "</div>"
      ],
      "text/plain": [
       "         Total Cases  Total Deaths  Total Tests\n",
       "USA          1457649         86912     10639178\n",
       "Spain         274367         27459      2467761\n",
       "Russia        262843          2418      6413948\n",
       "UK            233151         33614      2219281\n",
       "Italy         223096         31368      2807504\n",
       "Brazil        203165         13999       735224\n",
       "France        178870         27425      1384633\n",
       "Germany       174975          7928      3147771\n",
       "Turkey        144749          4007      1508824\n",
       "Iran          114533          6854       643772"
      ]
     },
     "execution_count": 3,
     "metadata": {},
     "output_type": "execute_result"
    }
   ],
   "source": [
    "import pandas as pd\n",
    "\n",
    "df = pd.DataFrame({'Total Cases': cases_total, 'Total Deaths': deaths_total, 'Total Tests': tests_total},countries)\n",
    "df"
   ]
  },
  {
   "cell_type": "code",
   "execution_count": 4,
   "metadata": {},
   "outputs": [
    {
     "data": {
      "image/png": "[encoded data removed]",
      "text/plain": [
       "<Figure size 720x720 with 1 Axes>"
      ]
     },
     "metadata": {
      "needs_background": "light"
     },
     "output_type": "display_data"
    }
   ],
   "source": [
    "import matplotlib.pyplot as plt\n",
    "\n",
    "df.plot.bar(figsize=(10,10))\n",
    "plt.title('Total of cases, deaths, tests', fontsize=20)\n",
    "\n",
    "plt.show()"
   ]
  },
  {
   "cell_type": "code",
   "execution_count": null,
   "metadata": {},
   "outputs": [],
   "source": []
  }
 ],
 "metadata": {
  "kernelspec": {
   "display_name": "Python 3",
   "language": "python",
   "name": "python3"
  },
  "language_info": {
   "codemirror_mode": {
    "name": "ipython",
    "version": 3
   },
   "file_extension": ".py",
   "mimetype": "text/x-python",
   "name": "python",
   "nbconvert_exporter": "python",
   "pygments_lexer": "ipython3",
   "version": "3.7.4"
  }
 },
 "nbformat": 4,
 "nbformat_minor": 2
}
