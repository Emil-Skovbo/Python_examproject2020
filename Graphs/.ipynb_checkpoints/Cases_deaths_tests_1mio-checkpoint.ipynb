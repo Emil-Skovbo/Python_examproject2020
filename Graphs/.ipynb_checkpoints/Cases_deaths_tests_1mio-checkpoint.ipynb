{
 "cells": [
  {
   "cell_type": "code",
   "execution_count": 1,
   "metadata": {},
   "outputs": [],
   "source": [
    "import pymysql\n",
    "\n",
    "connector = pymysql.connect(user='dev', password='ax2',host='127.0.0.1',port=3307,db='pythonexam')\n",
    "cursor = connector.cursor()\n",
    "\n",
    "query = ('SELECT country, total_cases_1mio, deaths_1miopop, tests_1miopop from corona20200515 WHERE LENGTH(total_cases) > 6 and not country = %s and not country = %s and not country = %s and not country = %s and not country = %s and not country = %s and not country = %s and not country = %s and not country = %s')\n",
    "where_not = \"North America\", \"Asia\", \"South America\", \"Europe\", \"World\", \"Total:\", \"Africa\", \"Oceania\", \"South Africa\"\n",
    "cursor.execute(query, where_not)\n",
    "\n",
    "countries = []\n",
    "cases_1mio = []\n",
    "deaths_1mio =[]\n",
    "tests_1mio = []\n",
    "for country,c , d , t in cursor:\n",
    "    countries.append(country)\n",
    "    cases = c.replace(',','')\n",
    "    deaths = d.replace(',','')\n",
    "    tests = t.replace(',','')\n",
    "    c_int = int(cases)\n",
    "    d_int = int(deaths)\n",
    "    t_int = int(tests)\n",
    "    cases_1mio.append(c_int)\n",
    "    deaths_1mio.append(d_int)\n",
    "    tests_1mio.append(t_int)\n",
    "    #print(tests_1mio)\n",
    "    \n",
    "cursor.close()\n",
    "connector.close()"
   ]
  },
  {
   "cell_type": "code",
   "execution_count": 13,
   "metadata": {},
   "outputs": [
    {
     "data": {
      "text/html": [
       "<div>\n",
       "<style scoped>\n",
       "    .dataframe tbody tr th:only-of-type {\n",
       "        vertical-align: middle;\n",
       "    }\n",
       "\n",
       "    .dataframe tbody tr th {\n",
       "        vertical-align: top;\n",
       "    }\n",
       "\n",
       "    .dataframe thead th {\n",
       "        text-align: right;\n",
       "    }\n",
       "</style>\n",
       "<table border=\"1\" class=\"dataframe\">\n",
       "  <thead>\n",
       "    <tr style=\"text-align: right;\">\n",
       "      <th></th>\n",
       "      <th>Cases 1Mio</th>\n",
       "      <th>Deaths 1mio</th>\n",
       "      <th>Tests 1mio</th>\n",
       "    </tr>\n",
       "  </thead>\n",
       "  <tbody>\n",
       "    <tr>\n",
       "      <td>USA</td>\n",
       "      <td>4407</td>\n",
       "      <td>263</td>\n",
       "      <td>32166</td>\n",
       "    </tr>\n",
       "    <tr>\n",
       "      <td>Spain</td>\n",
       "      <td>5868</td>\n",
       "      <td>587</td>\n",
       "      <td>52784</td>\n",
       "    </tr>\n",
       "    <tr>\n",
       "      <td>Russia</td>\n",
       "      <td>1801</td>\n",
       "      <td>17</td>\n",
       "      <td>43953</td>\n",
       "    </tr>\n",
       "    <tr>\n",
       "      <td>UK</td>\n",
       "      <td>3437</td>\n",
       "      <td>495</td>\n",
       "      <td>32713</td>\n",
       "    </tr>\n",
       "    <tr>\n",
       "      <td>Italy</td>\n",
       "      <td>3689</td>\n",
       "      <td>519</td>\n",
       "      <td>46426</td>\n",
       "    </tr>\n",
       "    <tr>\n",
       "      <td>Brazil</td>\n",
       "      <td>957</td>\n",
       "      <td>66</td>\n",
       "      <td>3462</td>\n",
       "    </tr>\n",
       "    <tr>\n",
       "      <td>France</td>\n",
       "      <td>2741</td>\n",
       "      <td>420</td>\n",
       "      <td>21219</td>\n",
       "    </tr>\n",
       "    <tr>\n",
       "      <td>Germany</td>\n",
       "      <td>2089</td>\n",
       "      <td>95</td>\n",
       "      <td>37585</td>\n",
       "    </tr>\n",
       "    <tr>\n",
       "      <td>Turkey</td>\n",
       "      <td>1719</td>\n",
       "      <td>48</td>\n",
       "      <td>17915</td>\n",
       "    </tr>\n",
       "    <tr>\n",
       "      <td>Iran</td>\n",
       "      <td>1366</td>\n",
       "      <td>82</td>\n",
       "      <td>7678</td>\n",
       "    </tr>\n",
       "  </tbody>\n",
       "</table>\n",
       "</div>"
      ],
      "text/plain": [
       "         Cases 1Mio  Deaths 1mio  Tests 1mio\n",
       "USA            4407          263       32166\n",
       "Spain          5868          587       52784\n",
       "Russia         1801           17       43953\n",
       "UK             3437          495       32713\n",
       "Italy          3689          519       46426\n",
       "Brazil          957           66        3462\n",
       "France         2741          420       21219\n",
       "Germany        2089           95       37585\n",
       "Turkey         1719           48       17915\n",
       "Iran           1366           82        7678"
      ]
     },
     "execution_count": 13,
     "metadata": {},
     "output_type": "execute_result"
    }
   ],
   "source": [
    "import pandas as pd\n",
    "\n",
    "df = pd.DataFrame({'Cases 1Mio': cases_1mio, 'Deaths 1mio': deaths_1mio, 'Tests 1mio': tests_1mio},countries)\n",
    "df\n"
   ]
  },
  {
   "cell_type": "code",
   "execution_count": 20,
   "metadata": {},
   "outputs": [
    {
     "data": {
      "image/png": "[encoded data removed]",
      "text/plain": [
       "<Figure size 720x720 with 1 Axes>"
      ]
     },
     "metadata": {
      "needs_background": "light"
     },
     "output_type": "display_data"
    }
   ],
   "source": [
    "import matplotlib.pyplot as plt\n",
    "\n",
    "df.plot.bar(figsize=(10,10))\n",
    "\n",
    "plt.title('Cases, deaths, tests - 1 mio.', fontsize=20)\n",
    "plt.yticks(fontsize=15)\n",
    "plt.xticks(fontsize=15)\n",
    "\n",
    "plt.show()\n",
    "#plt.savefig('1mio_cases_deaths_tests_2020-05-15.jpg')"
   ]
  },
  {
   "cell_type": "code",
   "execution_count": null,
   "metadata": {},
   "outputs": [],
   "source": []
  }
 ],
 "metadata": {
  "kernelspec": {
   "display_name": "Python 3",
   "language": "python",
   "name": "python3"
  },
  "language_info": {
   "codemirror_mode": {
    "name": "ipython",
    "version": 3
   },
   "file_extension": ".py",
   "mimetype": "text/x-python",
   "name": "python",
   "nbconvert_exporter": "python",
   "pygments_lexer": "ipython3",
   "version": "3.7.4"
  }
 },
 "nbformat": 4,
 "nbformat_minor": 2
}
